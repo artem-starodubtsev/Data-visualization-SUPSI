{
 "cells": [
  {
   "cell_type": "code",
   "id": "initial_id",
   "metadata": {
    "collapsed": true,
    "ExecuteTime": {
     "end_time": "2025-10-11T23:51:46.345107Z",
     "start_time": "2025-10-11T23:51:46.342421Z"
    }
   },
   "source": [
    "import pandas as pd\n",
    "import matplotlib.pyplot as plt\n",
    "import numpy as np\n",
    "from IPython.core.pylabtools import figsize"
   ],
   "outputs": [],
   "execution_count": 550
  },
  {
   "metadata": {},
   "cell_type": "markdown",
   "source": "### Data load and preprocessing",
   "id": "ab92686de423f0c5"
  },
  {
   "metadata": {
    "ExecuteTime": {
     "end_time": "2025-10-11T23:51:46.382952Z",
     "start_time": "2025-10-11T23:51:46.350169Z"
    }
   },
   "cell_type": "code",
   "source": "df = pd.read_csv('dataset/AI_Companies.csv')",
   "id": "aaddbddcdd8d23de",
   "outputs": [],
   "execution_count": 551
  },
  {
   "metadata": {
    "ExecuteTime": {
     "end_time": "2025-10-11T23:51:46.390010Z",
     "start_time": "2025-10-11T23:51:46.386536Z"
    }
   },
   "cell_type": "code",
   "source": [
    "df.drop(axis=1, index=2261, inplace=True)\n",
    "df.reset_index(inplace=True)"
   ],
   "id": "11713f5f84bf6d14",
   "outputs": [],
   "execution_count": 552
  },
  {
   "metadata": {
    "ExecuteTime": {
     "end_time": "2025-10-11T23:51:46.403005Z",
     "start_time": "2025-10-11T23:51:46.394551Z"
    }
   },
   "cell_type": "code",
   "source": [
    "df = df.iloc[:,:-1]\n",
    "df = df.drop_duplicates()\n",
    "df = df.dropna()\n",
    "df.sample(5)"
   ],
   "id": "3719847363f84b40",
   "outputs": [
    {
     "data": {
      "text/plain": [
       "      index                     Company_Name                          Website  \\\n",
       "2871   2872                     QuantumSpace  https://quantumspacepteltd.com/   \n",
       "2426   2427  InfoskatersTechnologiesPvt.Ltd.     https://www.infoskaters.com/   \n",
       "692     692                        Picovoice             https://picovoice.ai   \n",
       "2869   2870                 GlobalxSolutions      http://globalxsolutions.com   \n",
       "44       44                        FusionHit       https://www.fusionhit.com/   \n",
       "\n",
       "                  Location Minimum Project Size Average Hourly Rate  \\\n",
       "2871  Singapore, Singapore          Undisclosed         Undisclosed   \n",
       "2426      Bengaluru, India              $1,000+      $50 - $99 / hr   \n",
       "692      Vancouver, Canada             $10,000+         Undisclosed   \n",
       "2869     Karachi, Pakistan              $1,000+      $25 - $49 / hr   \n",
       "44     Heredia, Costa Rica             $10,000+      $50 - $99 / hr   \n",
       "\n",
       "     Number of Employees Percent AI Service Focus  \n",
       "2871             10 - 49                      20%  \n",
       "2426             10 - 49                      10%  \n",
       "692              10 - 49                     100%  \n",
       "2869             10 - 49                      20%  \n",
       "44              50 - 249                      10%  "
      ],
      "text/html": [
       "<div>\n",
       "<style scoped>\n",
       "    .dataframe tbody tr th:only-of-type {\n",
       "        vertical-align: middle;\n",
       "    }\n",
       "\n",
       "    .dataframe tbody tr th {\n",
       "        vertical-align: top;\n",
       "    }\n",
       "\n",
       "    .dataframe thead th {\n",
       "        text-align: right;\n",
       "    }\n",
       "</style>\n",
       "<table border=\"1\" class=\"dataframe\">\n",
       "  <thead>\n",
       "    <tr style=\"text-align: right;\">\n",
       "      <th></th>\n",
       "      <th>index</th>\n",
       "      <th>Company_Name</th>\n",
       "      <th>Website</th>\n",
       "      <th>Location</th>\n",
       "      <th>Minimum Project Size</th>\n",
       "      <th>Average Hourly Rate</th>\n",
       "      <th>Number of Employees</th>\n",
       "      <th>Percent AI Service Focus</th>\n",
       "    </tr>\n",
       "  </thead>\n",
       "  <tbody>\n",
       "    <tr>\n",
       "      <th>2871</th>\n",
       "      <td>2872</td>\n",
       "      <td>QuantumSpace</td>\n",
       "      <td>https://quantumspacepteltd.com/</td>\n",
       "      <td>Singapore, Singapore</td>\n",
       "      <td>Undisclosed</td>\n",
       "      <td>Undisclosed</td>\n",
       "      <td>10 - 49</td>\n",
       "      <td>20%</td>\n",
       "    </tr>\n",
       "    <tr>\n",
       "      <th>2426</th>\n",
       "      <td>2427</td>\n",
       "      <td>InfoskatersTechnologiesPvt.Ltd.</td>\n",
       "      <td>https://www.infoskaters.com/</td>\n",
       "      <td>Bengaluru, India</td>\n",
       "      <td>$1,000+</td>\n",
       "      <td>$50 - $99 / hr</td>\n",
       "      <td>10 - 49</td>\n",
       "      <td>10%</td>\n",
       "    </tr>\n",
       "    <tr>\n",
       "      <th>692</th>\n",
       "      <td>692</td>\n",
       "      <td>Picovoice</td>\n",
       "      <td>https://picovoice.ai</td>\n",
       "      <td>Vancouver, Canada</td>\n",
       "      <td>$10,000+</td>\n",
       "      <td>Undisclosed</td>\n",
       "      <td>10 - 49</td>\n",
       "      <td>100%</td>\n",
       "    </tr>\n",
       "    <tr>\n",
       "      <th>2869</th>\n",
       "      <td>2870</td>\n",
       "      <td>GlobalxSolutions</td>\n",
       "      <td>http://globalxsolutions.com</td>\n",
       "      <td>Karachi, Pakistan</td>\n",
       "      <td>$1,000+</td>\n",
       "      <td>$25 - $49 / hr</td>\n",
       "      <td>10 - 49</td>\n",
       "      <td>20%</td>\n",
       "    </tr>\n",
       "    <tr>\n",
       "      <th>44</th>\n",
       "      <td>44</td>\n",
       "      <td>FusionHit</td>\n",
       "      <td>https://www.fusionhit.com/</td>\n",
       "      <td>Heredia, Costa Rica</td>\n",
       "      <td>$10,000+</td>\n",
       "      <td>$50 - $99 / hr</td>\n",
       "      <td>50 - 249</td>\n",
       "      <td>10%</td>\n",
       "    </tr>\n",
       "  </tbody>\n",
       "</table>\n",
       "</div>"
      ]
     },
     "execution_count": 553,
     "metadata": {},
     "output_type": "execute_result"
    }
   ],
   "execution_count": 553
  },
  {
   "metadata": {
    "ExecuteTime": {
     "end_time": "2025-10-11T23:51:46.436349Z",
     "start_time": "2025-10-11T23:51:46.427314Z"
    }
   },
   "cell_type": "code",
   "source": [
    "loc_split = df['Location'].str.split(pat=\", \")\n",
    "sizes = loc_split.apply(lambda x: len(x))\n",
    "drop_mask = sizes > 2\n",
    "loc_split = loc_split[~drop_mask]\n",
    "new_df = df[~drop_mask]\n",
    "sizes = sizes[~drop_mask]\n",
    "new_df = new_df.loc[sizes.le(2)].copy()\n",
    "new_split = loc_split.loc[new_df.index]\n",
    "new_df['Country'] = new_split.str[-1].str.strip()\n",
    "new_df['City']    = np.where(new_split.str.len().eq(2),\n",
    "                             new_split.str[0].str.strip(), pd.NA)\n",
    "new_df.drop(columns=['Location'], inplace=True)\n",
    "new_df.reset_index(inplace=True, drop=True)\n",
    "new_df['Country'] = new_df['Country'].apply(lambda x: x if len(x) > 2 else 'USA')"
   ],
   "id": "c301114263d00282",
   "outputs": [],
   "execution_count": 554
  },
  {
   "metadata": {
    "ExecuteTime": {
     "end_time": "2025-10-11T23:51:46.844440Z",
     "start_time": "2025-10-11T23:51:46.840280Z"
    }
   },
   "cell_type": "code",
   "source": "new_df['Minimum Project Size'].unique()",
   "id": "b97ebdf2f4249948",
   "outputs": [
    {
     "data": {
      "text/plain": [
       "array(['Undisclosed', '$100,000+', '$1,000+', '$10,000+', '$50,000+',\n",
       "       '$5,000+', '$25,000+', '$75,000+', '$250,000+'], dtype=object)"
      ]
     },
     "execution_count": 555,
     "metadata": {},
     "output_type": "execute_result"
    }
   ],
   "execution_count": 555
  },
  {
   "metadata": {
    "ExecuteTime": {
     "end_time": "2025-10-11T23:51:46.873637Z",
     "start_time": "2025-10-11T23:51:46.870288Z"
    }
   },
   "cell_type": "code",
   "source": [
    "import re\n",
    "def parse_avg(x):\n",
    "    if pd.isna(x) or x in ['Undisclosed', 'Freelancer']:\n",
    "        return None\n",
    "    nums = [''.join(c for c in i if c.isdigit()) for i in x.split('-')]\n",
    "    if not nums:\n",
    "        return pd.NA\n",
    "    vals = list(map(float, nums))\n",
    "    return round(sum(vals) / len(vals)+.5)"
   ],
   "id": "af19e1d8fa1187dc",
   "outputs": [],
   "execution_count": 556
  },
  {
   "metadata": {
    "ExecuteTime": {
     "end_time": "2025-10-11T23:51:46.920694Z",
     "start_time": "2025-10-11T23:51:46.896804Z"
    }
   },
   "cell_type": "code",
   "source": [
    "new_df['Minimum Project Size'] = (\n",
    "    new_df['Minimum Project Size']\n",
    "      .apply(parse_avg)\n",
    "      .astype(float)\n",
    ")\n",
    "\n",
    "new_df['Average Hourly Rate'] = (\n",
    "    new_df['Average Hourly Rate']\n",
    "      .apply(parse_avg)\n",
    "      .astype(float)\n",
    ")\n",
    "\n",
    "new_df['Number of Employees'] = (\n",
    "    new_df['Number of Employees']\n",
    "      .apply(parse_avg)\n",
    "      .astype(float)\n",
    ")\n",
    "\n",
    "new_df['Percent AI Service Focus'] = (\n",
    "    new_df['Percent AI Service Focus']\n",
    "      .apply(parse_avg)\n",
    "      .astype(float)\n",
    ")\n",
    "\n",
    "new_df"
   ],
   "id": "c3281ebe1b1c2264",
   "outputs": [
    {
     "data": {
      "text/plain": [
       "      index              Company_Name                    Website  \\\n",
       "0         0                  Smith.ai          https://smith.ai/   \n",
       "1         1                   MooveIt      https://moove-it.com/   \n",
       "2         2              TechSpeedInc  http://www.techspeed.com/   \n",
       "3         3                   WillDom       https://willdom.com/   \n",
       "4         4                    Icreon  https://www.icreon.com/en   \n",
       "...     ...                       ...                        ...   \n",
       "3076   3095     HurekaTechnologiesInc   http://www.hurekatek.com   \n",
       "3077   3096    MYZEALI.T.SolutionsLLC   http://www.myzealit.com/   \n",
       "3078   3097                   Intelia        https://intelia.io/   \n",
       "3079   3098                  MojoTrek    http://www.mojotrek.com   \n",
       "3080   3099  HypeTeqSoftwareSolutions   https://www.hypeteq.com/   \n",
       "\n",
       "      Minimum Project Size  Average Hourly Rate  Number of Employees  \\\n",
       "0                      NaN                  NaN                625.0   \n",
       "1                 100000.0                 75.0                150.0   \n",
       "2                   1000.0                 26.0                150.0   \n",
       "3                  10000.0                 75.0                625.0   \n",
       "4                  50000.0                125.0                625.0   \n",
       "...                    ...                  ...                  ...   \n",
       "3076               10000.0                 38.0                 30.0   \n",
       "3077               10000.0                 38.0                625.0   \n",
       "3078               25000.0                  NaN                 30.0   \n",
       "3079               10000.0                 75.0                 30.0   \n",
       "3080               50000.0                 38.0                 30.0   \n",
       "\n",
       "      Percent AI Service Focus  Country             City  \n",
       "0                         10.0      USA        Los Altos  \n",
       "1                         16.0      USA           Austin  \n",
       "2                         40.0      USA         Portland  \n",
       "3                         10.0      USA  Fort Lauderdale  \n",
       "4                         10.0      USA         New York  \n",
       "...                        ...      ...              ...  \n",
       "3076                      20.0      USA    New Brunswick  \n",
       "3077                      10.0      USA      Los Angeles  \n",
       "3078                      20.0  Nigeria            Lagos  \n",
       "3079                      26.0      USA          Chicago  \n",
       "3080                      10.0    India        Ahmedabad  \n",
       "\n",
       "[3081 rows x 9 columns]"
      ],
      "text/html": [
       "<div>\n",
       "<style scoped>\n",
       "    .dataframe tbody tr th:only-of-type {\n",
       "        vertical-align: middle;\n",
       "    }\n",
       "\n",
       "    .dataframe tbody tr th {\n",
       "        vertical-align: top;\n",
       "    }\n",
       "\n",
       "    .dataframe thead th {\n",
       "        text-align: right;\n",
       "    }\n",
       "</style>\n",
       "<table border=\"1\" class=\"dataframe\">\n",
       "  <thead>\n",
       "    <tr style=\"text-align: right;\">\n",
       "      <th></th>\n",
       "      <th>index</th>\n",
       "      <th>Company_Name</th>\n",
       "      <th>Website</th>\n",
       "      <th>Minimum Project Size</th>\n",
       "      <th>Average Hourly Rate</th>\n",
       "      <th>Number of Employees</th>\n",
       "      <th>Percent AI Service Focus</th>\n",
       "      <th>Country</th>\n",
       "      <th>City</th>\n",
       "    </tr>\n",
       "  </thead>\n",
       "  <tbody>\n",
       "    <tr>\n",
       "      <th>0</th>\n",
       "      <td>0</td>\n",
       "      <td>Smith.ai</td>\n",
       "      <td>https://smith.ai/</td>\n",
       "      <td>NaN</td>\n",
       "      <td>NaN</td>\n",
       "      <td>625.0</td>\n",
       "      <td>10.0</td>\n",
       "      <td>USA</td>\n",
       "      <td>Los Altos</td>\n",
       "    </tr>\n",
       "    <tr>\n",
       "      <th>1</th>\n",
       "      <td>1</td>\n",
       "      <td>MooveIt</td>\n",
       "      <td>https://moove-it.com/</td>\n",
       "      <td>100000.0</td>\n",
       "      <td>75.0</td>\n",
       "      <td>150.0</td>\n",
       "      <td>16.0</td>\n",
       "      <td>USA</td>\n",
       "      <td>Austin</td>\n",
       "    </tr>\n",
       "    <tr>\n",
       "      <th>2</th>\n",
       "      <td>2</td>\n",
       "      <td>TechSpeedInc</td>\n",
       "      <td>http://www.techspeed.com/</td>\n",
       "      <td>1000.0</td>\n",
       "      <td>26.0</td>\n",
       "      <td>150.0</td>\n",
       "      <td>40.0</td>\n",
       "      <td>USA</td>\n",
       "      <td>Portland</td>\n",
       "    </tr>\n",
       "    <tr>\n",
       "      <th>3</th>\n",
       "      <td>3</td>\n",
       "      <td>WillDom</td>\n",
       "      <td>https://willdom.com/</td>\n",
       "      <td>10000.0</td>\n",
       "      <td>75.0</td>\n",
       "      <td>625.0</td>\n",
       "      <td>10.0</td>\n",
       "      <td>USA</td>\n",
       "      <td>Fort Lauderdale</td>\n",
       "    </tr>\n",
       "    <tr>\n",
       "      <th>4</th>\n",
       "      <td>4</td>\n",
       "      <td>Icreon</td>\n",
       "      <td>https://www.icreon.com/en</td>\n",
       "      <td>50000.0</td>\n",
       "      <td>125.0</td>\n",
       "      <td>625.0</td>\n",
       "      <td>10.0</td>\n",
       "      <td>USA</td>\n",
       "      <td>New York</td>\n",
       "    </tr>\n",
       "    <tr>\n",
       "      <th>...</th>\n",
       "      <td>...</td>\n",
       "      <td>...</td>\n",
       "      <td>...</td>\n",
       "      <td>...</td>\n",
       "      <td>...</td>\n",
       "      <td>...</td>\n",
       "      <td>...</td>\n",
       "      <td>...</td>\n",
       "      <td>...</td>\n",
       "    </tr>\n",
       "    <tr>\n",
       "      <th>3076</th>\n",
       "      <td>3095</td>\n",
       "      <td>HurekaTechnologiesInc</td>\n",
       "      <td>http://www.hurekatek.com</td>\n",
       "      <td>10000.0</td>\n",
       "      <td>38.0</td>\n",
       "      <td>30.0</td>\n",
       "      <td>20.0</td>\n",
       "      <td>USA</td>\n",
       "      <td>New Brunswick</td>\n",
       "    </tr>\n",
       "    <tr>\n",
       "      <th>3077</th>\n",
       "      <td>3096</td>\n",
       "      <td>MYZEALI.T.SolutionsLLC</td>\n",
       "      <td>http://www.myzealit.com/</td>\n",
       "      <td>10000.0</td>\n",
       "      <td>38.0</td>\n",
       "      <td>625.0</td>\n",
       "      <td>10.0</td>\n",
       "      <td>USA</td>\n",
       "      <td>Los Angeles</td>\n",
       "    </tr>\n",
       "    <tr>\n",
       "      <th>3078</th>\n",
       "      <td>3097</td>\n",
       "      <td>Intelia</td>\n",
       "      <td>https://intelia.io/</td>\n",
       "      <td>25000.0</td>\n",
       "      <td>NaN</td>\n",
       "      <td>30.0</td>\n",
       "      <td>20.0</td>\n",
       "      <td>Nigeria</td>\n",
       "      <td>Lagos</td>\n",
       "    </tr>\n",
       "    <tr>\n",
       "      <th>3079</th>\n",
       "      <td>3098</td>\n",
       "      <td>MojoTrek</td>\n",
       "      <td>http://www.mojotrek.com</td>\n",
       "      <td>10000.0</td>\n",
       "      <td>75.0</td>\n",
       "      <td>30.0</td>\n",
       "      <td>26.0</td>\n",
       "      <td>USA</td>\n",
       "      <td>Chicago</td>\n",
       "    </tr>\n",
       "    <tr>\n",
       "      <th>3080</th>\n",
       "      <td>3099</td>\n",
       "      <td>HypeTeqSoftwareSolutions</td>\n",
       "      <td>https://www.hypeteq.com/</td>\n",
       "      <td>50000.0</td>\n",
       "      <td>38.0</td>\n",
       "      <td>30.0</td>\n",
       "      <td>10.0</td>\n",
       "      <td>India</td>\n",
       "      <td>Ahmedabad</td>\n",
       "    </tr>\n",
       "  </tbody>\n",
       "</table>\n",
       "<p>3081 rows × 9 columns</p>\n",
       "</div>"
      ]
     },
     "execution_count": 557,
     "metadata": {},
     "output_type": "execute_result"
    }
   ],
   "execution_count": 557
  },
  {
   "metadata": {},
   "cell_type": "markdown",
   "source": "### Data exploration/visualization",
   "id": "7d0eb165224bc30"
  },
  {
   "metadata": {
    "ExecuteTime": {
     "end_time": "2025-10-11T23:51:46.947339Z",
     "start_time": "2025-10-11T23:51:46.944114Z"
    }
   },
   "cell_type": "code",
   "source": "country_counts = new_df.groupby('Country')['Country'].value_counts().sort_values()",
   "id": "5033a77df44854eb",
   "outputs": [],
   "execution_count": 558
  },
  {
   "metadata": {
    "ExecuteTime": {
     "end_time": "2025-10-11T23:51:47.059531Z",
     "start_time": "2025-10-11T23:51:46.988210Z"
    }
   },
   "cell_type": "code",
   "source": "plt.barh(country_counts.index[-20:], country_counts[-20:])",
   "id": "5ee74a305e8e495f",
   "outputs": [
    {
     "data": {
      "text/plain": [
       "<BarContainer object of 20 artists>"
      ]
     },
     "execution_count": 559,
     "metadata": {},
     "output_type": "execute_result"
    },
    {
     "data": {
      "text/plain": [
       "<Figure size 640x480 with 1 Axes>"
      ],
      "image/png": "[encoded data removed]"
     },
     "metadata": {},
     "output_type": "display_data",
     "jetTransient": {
      "display_id": null
     }
    }
   ],
   "execution_count": 559
  },
  {
   "metadata": {
    "ExecuteTime": {
     "end_time": "2025-10-11T23:51:47.102307Z",
     "start_time": "2025-10-11T23:51:47.098099Z"
    }
   },
   "cell_type": "code",
   "source": "country_counts",
   "id": "ccfd06054e5d643a",
   "outputs": [
    {
     "data": {
      "text/plain": [
       "Country\n",
       "unknown             1\n",
       "Seychelles          1\n",
       "Puerto Rico         1\n",
       "Oman                1\n",
       "Kosovo              1\n",
       "                 ... \n",
       "Canada            122\n",
       "Poland            147\n",
       "United Kingdom    299\n",
       "India             438\n",
       "USA               916\n",
       "Name: count, Length: 93, dtype: int64"
      ]
     },
     "execution_count": 560,
     "metadata": {},
     "output_type": "execute_result"
    }
   ],
   "execution_count": 560
  },
  {
   "metadata": {
    "ExecuteTime": {
     "end_time": "2025-10-11T23:51:47.189754Z",
     "start_time": "2025-10-11T23:51:47.187250Z"
    }
   },
   "cell_type": "code",
   "source": "",
   "id": "bc777f3c32699106",
   "outputs": [],
   "execution_count": null
  }
 ],
 "metadata": {
  "kernelspec": {
   "display_name": "Python [conda env:base] *",
   "language": "python",
   "name": "conda-base-py"
  },
  "language_info": {
   "codemirror_mode": {
    "name": "ipython",
    "version": 2
   },
   "file_extension": ".py",
   "mimetype": "text/x-python",
   "name": "python",
   "nbconvert_exporter": "python",
   "pygments_lexer": "ipython2",
   "version": "2.7.6"
  }
 },
 "nbformat": 4,
 "nbformat_minor": 5
}
